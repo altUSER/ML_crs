{
 "cells": [
  {
   "cell_type": "code",
   "execution_count": 4,
   "metadata": {},
   "outputs": [],
   "source": [
    "def fib(mx):\n",
    "    f1, f2 = 0, 1\n",
    "    while f1 <= mx:\n",
    "        yield f1\n",
    "        f1, f2 = f2, f1 + f2"
   ]
  },
  {
   "cell_type": "code",
   "execution_count": 5,
   "metadata": {},
   "outputs": [
    {
     "name": "stdout",
     "output_type": "stream",
     "text": [
      "0\n",
      "1\n",
      "1\n",
      "2\n",
      "3\n",
      "5\n",
      "8\n",
      "13\n",
      "21\n",
      "34\n"
     ]
    }
   ],
   "source": [
    "for i in fib(42):\n",
    "    print(i)"
   ]
  },
  {
   "cell_type": "code",
   "execution_count": 62,
   "metadata": {},
   "outputs": [],
   "source": [
    "def pol(inp):\n",
    "    ln = len(inp)\n",
    "    _ln = ln\n",
    "    if ln % 2 != 0:\n",
    "        _ln -= 1\n",
    "    for i in range(int(_ln/2)):\n",
    "        if inp[i] != inp[ln-i-1]:\n",
    "            return False\n",
    "    return True\n",
    "        "
   ]
  },
  {
   "cell_type": "code",
   "execution_count": 77,
   "metadata": {},
   "outputs": [],
   "source": [
    "def funcTimer(ftd):\n",
    "    from time import time\n",
    "    millis = time()\n",
    "    print(ftd())\n",
    "    print(\"Time:\", time()-millis)\n",
    "    \n",
    "def stl():\n",
    "    outp = 0\n",
    "    for i in range(1000000):\n",
    "        outp += 1\n",
    "    return(outp)"
   ]
  },
  {
   "cell_type": "code",
   "execution_count": 78,
   "metadata": {},
   "outputs": [
    {
     "name": "stdout",
     "output_type": "stream",
     "text": [
      "1000000\n",
      "Time: 0.36190056800842285\n"
     ]
    }
   ],
   "source": [
    "funcTimer(stl)"
   ]
  },
  {
   "cell_type": "code",
   "execution_count": 95,
   "metadata": {},
   "outputs": [],
   "source": [
    "def razv(inp):\n",
    "    outp = [i for x in inp for i in x]\n",
    "    return outp"
   ]
  },
  {
   "cell_type": "code",
   "execution_count": 96,
   "metadata": {},
   "outputs": [
    {
     "data": {
      "text/plain": [
       "[1, 2, 3, 4, 5, 6, 7, 8, 9]"
      ]
     },
     "execution_count": 96,
     "metadata": {},
     "output_type": "execute_result"
    }
   ],
   "source": [
    "razv([[1, 2, 3], [4, 5, 6], [7, 8, 9]])"
   ]
  }
 ],
 "metadata": {
  "kernelspec": {
   "display_name": "Python 3",
   "language": "python",
   "name": "python3"
  },
  "language_info": {
   "codemirror_mode": {
    "name": "ipython",
    "version": 3
   },
   "file_extension": ".py",
   "mimetype": "text/x-python",
   "name": "python",
   "nbconvert_exporter": "python",
   "pygments_lexer": "ipython3",
   "version": "3.8.5"
  }
 },
 "nbformat": 4,
 "nbformat_minor": 4
}
