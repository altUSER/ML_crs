{
 "cells": [
  {
   "cell_type": "code",
   "execution_count": 1104,
   "metadata": {},
   "outputs": [],
   "source": [
    "import pandas as pd"
   ]
  },
  {
   "cell_type": "code",
   "execution_count": 1105,
   "metadata": {},
   "outputs": [],
   "source": [
    "data = pd.read_csv(\"form.csv\", parse_dates=[\"Отметка времени\"])"
   ]
  },
  {
   "cell_type": "code",
   "execution_count": 1106,
   "metadata": {
    "scrolled": true
   },
   "outputs": [
    {
     "data": {
      "text/html": [
       "<div>\n",
       "<style scoped>\n",
       "    .dataframe tbody tr th:only-of-type {\n",
       "        vertical-align: middle;\n",
       "    }\n",
       "\n",
       "    .dataframe tbody tr th {\n",
       "        vertical-align: top;\n",
       "    }\n",
       "\n",
       "    .dataframe thead th {\n",
       "        text-align: right;\n",
       "    }\n",
       "</style>\n",
       "<table border=\"1\" class=\"dataframe\">\n",
       "  <thead>\n",
       "    <tr style=\"text-align: right;\">\n",
       "      <th></th>\n",
       "      <th>Отметка времени</th>\n",
       "      <th>Мальчик или девочка?</th>\n",
       "      <th>Как часто тебя били в детстве?</th>\n",
       "      <th>Оцените ваш уровень вегетарианца по 5-ти бальной шкале</th>\n",
       "      <th>Что такое два.ч?</th>\n",
       "      <th>Твоя ориентация?</th>\n",
       "      <th>Погулять вечером после тяжкого рабочего дня, или посычевать дома?</th>\n",
       "      <th>Как часто играешь в игры?</th>\n",
       "      <th>Сериалы?</th>\n",
       "      <th>А книги?</th>\n",
       "      <th>Вы таки антисемит?</th>\n",
       "      <th>Какой предмет ближе всего по душе?</th>\n",
       "      <th>Как вы относитесь к аннексии Крыма?</th>\n",
       "      <th>Владимир Путин -</th>\n",
       "      <th>Как хорошо вы знаете английский?</th>\n",
       "      <th>Было ли раньше лучше?</th>\n",
       "      <th>А какие жанры фильмов любишь?</th>\n",
       "    </tr>\n",
       "  </thead>\n",
       "  <tbody>\n",
       "    <tr>\n",
       "      <th>0</th>\n",
       "      <td>2019-09-06 23:22:11</td>\n",
       "      <td>Девочка</td>\n",
       "      <td>Не били</td>\n",
       "      <td>2</td>\n",
       "      <td>Не знаю</td>\n",
       "      <td>Гетеро</td>\n",
       "      <td>Сычевать</td>\n",
       "      <td>1</td>\n",
       "      <td>1</td>\n",
       "      <td>3</td>\n",
       "      <td>Нет</td>\n",
       "      <td>Литература</td>\n",
       "      <td>Положительно</td>\n",
       "      <td>Краб</td>\n",
       "      <td>Чуть лучше, чем ничего</td>\n",
       "      <td>Нет</td>\n",
       "      <td>Детектив, Аниме, Драма, Комедия, Исторический ...</td>\n",
       "    </tr>\n",
       "    <tr>\n",
       "      <th>1</th>\n",
       "      <td>2019-09-06 23:27:43</td>\n",
       "      <td>Мальчик</td>\n",
       "      <td>Разве что по делу</td>\n",
       "      <td>2</td>\n",
       "      <td>Ненавижу Абу</td>\n",
       "      <td>Гетеро</td>\n",
       "      <td>Сычевать</td>\n",
       "      <td>3</td>\n",
       "      <td>1</td>\n",
       "      <td>2</td>\n",
       "      <td>Нет</td>\n",
       "      <td>Матеша</td>\n",
       "      <td>Мне всё равно</td>\n",
       "      <td>человек</td>\n",
       "      <td>Хорошо</td>\n",
       "      <td>Нет</td>\n",
       "      <td>Детектив, Трагедия, Фильм ужасов, Фантастика</td>\n",
       "    </tr>\n",
       "    <tr>\n",
       "      <th>2</th>\n",
       "      <td>2019-09-06 23:30:07</td>\n",
       "      <td>Девочка</td>\n",
       "      <td>Разве что по делу</td>\n",
       "      <td>2</td>\n",
       "      <td>Паблик в вк</td>\n",
       "      <td>Гетеро</td>\n",
       "      <td>Гулять</td>\n",
       "      <td>0</td>\n",
       "      <td>1</td>\n",
       "      <td>3</td>\n",
       "      <td>Нет</td>\n",
       "      <td>Информатика</td>\n",
       "      <td>Мне всё равно</td>\n",
       "      <td>Политик, лидер и боец</td>\n",
       "      <td>Хорошо</td>\n",
       "      <td>Нет</td>\n",
       "      <td>Боевик, Детектив, Комедия, Мелодрама, Фантастика</td>\n",
       "    </tr>\n",
       "    <tr>\n",
       "      <th>3</th>\n",
       "      <td>2019-09-06 23:30:08</td>\n",
       "      <td>Мальчик</td>\n",
       "      <td>Разве что по делу</td>\n",
       "      <td>0</td>\n",
       "      <td>Лучшая борда рунета</td>\n",
       "      <td>Гетеро</td>\n",
       "      <td>Гулять</td>\n",
       "      <td>2</td>\n",
       "      <td>3</td>\n",
       "      <td>4</td>\n",
       "      <td>Нет</td>\n",
       "      <td>Информатика</td>\n",
       "      <td>Отрицательно</td>\n",
       "      <td>Политик, лидер и боец</td>\n",
       "      <td>Хорошо</td>\n",
       "      <td>А колбаса какая, колбаса...</td>\n",
       "      <td>Боевик, Детектив, Аниме, Комедия, Мелодрама, И...</td>\n",
       "    </tr>\n",
       "    <tr>\n",
       "      <th>4</th>\n",
       "      <td>2019-09-06 23:31:38</td>\n",
       "      <td>Мальчик</td>\n",
       "      <td>Не били</td>\n",
       "      <td>1</td>\n",
       "      <td>Ненавижу Абу</td>\n",
       "      <td>Гетеро</td>\n",
       "      <td>Сычевать</td>\n",
       "      <td>6</td>\n",
       "      <td>4</td>\n",
       "      <td>3</td>\n",
       "      <td>Нет</td>\n",
       "      <td>Информатика</td>\n",
       "      <td>Мне всё равно</td>\n",
       "      <td>Политик, лидер и боец</td>\n",
       "      <td>Чуть лучше, чем ничего</td>\n",
       "      <td>А колбаса какая, колбаса...</td>\n",
       "      <td>Боевик, Детектив, Аниме, Драма, Комедия, Истор...</td>\n",
       "    </tr>\n",
       "  </tbody>\n",
       "</table>\n",
       "</div>"
      ],
      "text/plain": [
       "      Отметка времени Мальчик или девочка? Как часто тебя били в детстве?  \\\n",
       "0 2019-09-06 23:22:11              Девочка                        Не били   \n",
       "1 2019-09-06 23:27:43              Мальчик              Разве что по делу   \n",
       "2 2019-09-06 23:30:07              Девочка              Разве что по делу   \n",
       "3 2019-09-06 23:30:08              Мальчик              Разве что по делу   \n",
       "4 2019-09-06 23:31:38              Мальчик                        Не били   \n",
       "\n",
       "   Оцените ваш уровень вегетарианца по 5-ти бальной шкале  \\\n",
       "0                                                  2        \n",
       "1                                                  2        \n",
       "2                                                  2        \n",
       "3                                                  0        \n",
       "4                                                  1        \n",
       "\n",
       "      Что такое два.ч? Твоя ориентация?  \\\n",
       "0              Не знаю           Гетеро   \n",
       "1         Ненавижу Абу           Гетеро   \n",
       "2          Паблик в вк           Гетеро   \n",
       "3  Лучшая борда рунета           Гетеро   \n",
       "4         Ненавижу Абу           Гетеро   \n",
       "\n",
       "  Погулять вечером после тяжкого рабочего дня, или посычевать дома?  \\\n",
       "0                                           Сычевать                  \n",
       "1                                           Сычевать                  \n",
       "2                                             Гулять                  \n",
       "3                                             Гулять                  \n",
       "4                                           Сычевать                  \n",
       "\n",
       "   Как часто играешь в игры?  Сериалы?  А книги?  Вы таки антисемит?   \\\n",
       "0                          1         1          3                 Нет   \n",
       "1                          3         1          2                 Нет   \n",
       "2                          0         1          3                 Нет   \n",
       "3                          2         3          4                 Нет   \n",
       "4                          6         4          3                 Нет   \n",
       "\n",
       "  Какой предмет ближе всего по душе? Как вы относитесь к аннексии Крыма?  \\\n",
       "0                         Литература                        Положительно   \n",
       "1                             Матеша                       Мне всё равно   \n",
       "2                        Информатика                       Мне всё равно   \n",
       "3                        Информатика                        Отрицательно   \n",
       "4                        Информатика                       Мне всё равно   \n",
       "\n",
       "       Владимир Путин -  Как хорошо вы знаете английский?  \\\n",
       "0                   Краб           Чуть лучше, чем ничего   \n",
       "1                человек                           Хорошо   \n",
       "2  Политик, лидер и боец                           Хорошо   \n",
       "3  Политик, лидер и боец                           Хорошо   \n",
       "4  Политик, лидер и боец           Чуть лучше, чем ничего   \n",
       "\n",
       "        Было ли раньше лучше?   \\\n",
       "0                          Нет   \n",
       "1                          Нет   \n",
       "2                          Нет   \n",
       "3  А колбаса какая, колбаса...   \n",
       "4  А колбаса какая, колбаса...   \n",
       "\n",
       "                      А какие жанры фильмов любишь?   \n",
       "0  Детектив, Аниме, Драма, Комедия, Исторический ...  \n",
       "1       Детектив, Трагедия, Фильм ужасов, Фантастика  \n",
       "2   Боевик, Детектив, Комедия, Мелодрама, Фантастика  \n",
       "3  Боевик, Детектив, Аниме, Комедия, Мелодрама, И...  \n",
       "4  Боевик, Детектив, Аниме, Драма, Комедия, Истор...  "
      ]
     },
     "execution_count": 1106,
     "metadata": {},
     "output_type": "execute_result"
    }
   ],
   "source": [
    "data.head()"
   ]
  },
  {
   "cell_type": "code",
   "execution_count": 1107,
   "metadata": {},
   "outputs": [],
   "source": [
    "data.rename(columns=dict(zip(data.columns.tolist(), ['time', 'sex', 'child_offence', 'vegan', 'dvach', 'gender', 'rest', 'games', 'series', 'books', 'antisemetism', 'subject', 'crimea', 'putin', 'english', 'old_days', 'films'])),inplace = True)"
   ]
  },
  {
   "cell_type": "code",
   "execution_count": 1108,
   "metadata": {},
   "outputs": [],
   "source": [
    "data.loc[data.sex != \"Девочка\", [\"sex\"]] = \"0\""
   ]
  },
  {
   "cell_type": "code",
   "execution_count": 1109,
   "metadata": {},
   "outputs": [],
   "source": [
    "data.loc[data.sex == \"Девочка\", [\"sex\"]] = \"1\""
   ]
  },
  {
   "cell_type": "code",
   "execution_count": 1110,
   "metadata": {},
   "outputs": [],
   "source": [
    "data.sex = data.sex.astype(\"int\")"
   ]
  },
  {
   "cell_type": "code",
   "execution_count": 1111,
   "metadata": {
    "scrolled": true
   },
   "outputs": [],
   "source": [
    "temp = pd.get_dummies(data.child_offence)"
   ]
  },
  {
   "cell_type": "code",
   "execution_count": 1112,
   "metadata": {},
   "outputs": [],
   "source": [
    "temp.rename(columns={\"Не били\": \"child_offence_no\", \"Разве что по делу\": \"child_offence_infrequently\", \"Часто\": \"child_offence_often\"}, inplace= True)"
   ]
  },
  {
   "cell_type": "code",
   "execution_count": 1113,
   "metadata": {},
   "outputs": [],
   "source": [
    "data = data.join(temp)"
   ]
  },
  {
   "cell_type": "code",
   "execution_count": 1114,
   "metadata": {},
   "outputs": [],
   "source": [
    "data = data.drop(\"child_offence\", axis=1)"
   ]
  },
  {
   "cell_type": "code",
   "execution_count": 1115,
   "metadata": {
    "scrolled": true
   },
   "outputs": [],
   "source": [
    "temp = pd.get_dummies(data.dvach)"
   ]
  },
  {
   "cell_type": "code",
   "execution_count": 1116,
   "metadata": {},
   "outputs": [],
   "source": [
    "temp.rename(columns={\"Не знаю\": \"dvach_doesn't_know\", \"Ненавижу Абу\": \"dvach_hate_abu\", \"Паблик в вк\": \"dvach_vk_pub\", \"Лучшая борда рунета\": \"dvach_best_bord\"}, inplace= True)"
   ]
  },
  {
   "cell_type": "code",
   "execution_count": 1117,
   "metadata": {},
   "outputs": [],
   "source": [
    "data = data.join(temp)"
   ]
  },
  {
   "cell_type": "code",
   "execution_count": 1118,
   "metadata": {},
   "outputs": [],
   "source": [
    "data = data.drop(\"dvach\", axis=1)"
   ]
  },
  {
   "cell_type": "code",
   "execution_count": 1119,
   "metadata": {},
   "outputs": [],
   "source": [
    "temp = pd.get_dummies(data.gender)"
   ]
  },
  {
   "cell_type": "code",
   "execution_count": 1120,
   "metadata": {},
   "outputs": [],
   "source": [
    "temp.rename(columns={\"Гетеро\": \"gender_hetero\", \"Би\": \"gender_bi\", \"Альтернативная\": \"gender_other\"}, inplace= True)"
   ]
  },
  {
   "cell_type": "code",
   "execution_count": 1121,
   "metadata": {},
   "outputs": [],
   "source": [
    "data = data.join(temp)"
   ]
  },
  {
   "cell_type": "code",
   "execution_count": 1122,
   "metadata": {},
   "outputs": [],
   "source": [
    "data = data.drop(\"gender\", axis=1)"
   ]
  },
  {
   "cell_type": "code",
   "execution_count": 1123,
   "metadata": {},
   "outputs": [],
   "source": [
    "data.loc[data.sex != \"Гулять\", [\"rest\"]] = \"0\""
   ]
  },
  {
   "cell_type": "code",
   "execution_count": 1124,
   "metadata": {},
   "outputs": [],
   "source": [
    "data.loc[data.sex == \"Гулять\", [\"rest\"]] = \"1\""
   ]
  },
  {
   "cell_type": "code",
   "execution_count": 1125,
   "metadata": {},
   "outputs": [],
   "source": [
    "data.rest = data.rest.astype(\"int\")"
   ]
  },
  {
   "cell_type": "code",
   "execution_count": 1126,
   "metadata": {},
   "outputs": [
    {
     "data": {
      "text/plain": [
       "array(['Нет', 'Я просто боюсь евреев', 'Да'], dtype=object)"
      ]
     },
     "execution_count": 1126,
     "metadata": {},
     "output_type": "execute_result"
    }
   ],
   "source": [
    "data.antisemetism.unique()"
   ]
  },
  {
   "cell_type": "code",
   "execution_count": 1127,
   "metadata": {},
   "outputs": [],
   "source": [
    "temp = pd.get_dummies(data.antisemetism)"
   ]
  },
  {
   "cell_type": "code",
   "execution_count": 1128,
   "metadata": {},
   "outputs": [],
   "source": [
    "temp.rename(columns={\"Нет\": \"antisemetism_no\", \"Я просто боюсь евреев\": \"antisemetism_afraid\", \"Да\": \"antisemetism_yes\"}, inplace= True)"
   ]
  },
  {
   "cell_type": "code",
   "execution_count": 1129,
   "metadata": {},
   "outputs": [],
   "source": [
    "data = data.join(temp)"
   ]
  },
  {
   "cell_type": "code",
   "execution_count": 1130,
   "metadata": {},
   "outputs": [],
   "source": [
    "data = data.drop(\"antisemetism\", axis=1)"
   ]
  },
  {
   "cell_type": "code",
   "execution_count": 1131,
   "metadata": {},
   "outputs": [],
   "source": [
    "temp = pd.get_dummies(data.subject)"
   ]
  },
  {
   "cell_type": "code",
   "execution_count": 1132,
   "metadata": {},
   "outputs": [],
   "source": [
    "temp.rename(columns=dict(zip(temp.columns.tolist(), ['subject_literature', 'subject_math', 'subject_IT', 'subject_history', 'subject_foreign_languages', 'subject_physics', 'subject_biology', 'subject_chemistry'])), inplace= True)"
   ]
  },
  {
   "cell_type": "code",
   "execution_count": 1133,
   "metadata": {},
   "outputs": [],
   "source": [
    "data = data.join(temp)"
   ]
  },
  {
   "cell_type": "code",
   "execution_count": 1134,
   "metadata": {},
   "outputs": [],
   "source": [
    "data = data.drop(\"subject\", axis=1)"
   ]
  },
  {
   "cell_type": "code",
   "execution_count": 1135,
   "metadata": {},
   "outputs": [],
   "source": [
    "temp = pd.get_dummies(data.crimea)"
   ]
  },
  {
   "cell_type": "code",
   "execution_count": 1136,
   "metadata": {},
   "outputs": [],
   "source": [
    "temp.rename(columns={\"Положительно\": \"crimea_yes\", \"Мне всё равно\": \"crimea_neutral\", \"Отрицательно\": \"crimea_no\"}, inplace= True)"
   ]
  },
  {
   "cell_type": "code",
   "execution_count": 1137,
   "metadata": {},
   "outputs": [],
   "source": [
    "data = data.join(temp)"
   ]
  },
  {
   "cell_type": "code",
   "execution_count": 1138,
   "metadata": {},
   "outputs": [],
   "source": [
    "data = data.drop(\"crimea\", axis=1)"
   ]
  },
  {
   "cell_type": "code",
   "execution_count": 1139,
   "metadata": {},
   "outputs": [
    {
     "data": {
      "text/plain": [
       "array(['Чуть лучше, чем ничего', 'Хорошо', 'НЭЙТИВ ИНГЛИШ СПИКЕР',\n",
       "       'Нормально', 'Оригатоё гайзаймас', 'Отлично'], dtype=object)"
      ]
     },
     "execution_count": 1139,
     "metadata": {},
     "output_type": "execute_result"
    }
   ],
   "source": [
    "data.english.unique()"
   ]
  },
  {
   "cell_type": "code",
   "execution_count": 1140,
   "metadata": {},
   "outputs": [],
   "source": [
    "data.loc[data.english == \"Оригатоё гайзаймас\", [\"english\"]] = \"0\""
   ]
  },
  {
   "cell_type": "code",
   "execution_count": 1141,
   "metadata": {},
   "outputs": [],
   "source": [
    "data.loc[data.english == \"Чуть лучше, чем ничего\", [\"english\"]] = \"1\""
   ]
  },
  {
   "cell_type": "code",
   "execution_count": 1142,
   "metadata": {},
   "outputs": [],
   "source": [
    "data.loc[data.english == \"Нормально\", [\"english\"]] = \"2\""
   ]
  },
  {
   "cell_type": "code",
   "execution_count": 1143,
   "metadata": {},
   "outputs": [],
   "source": [
    "data.loc[data.english == \"Хорошо\", [\"english\"]] = \"3\""
   ]
  },
  {
   "cell_type": "code",
   "execution_count": 1144,
   "metadata": {},
   "outputs": [],
   "source": [
    "data.loc[data.english == \"Отлично\", [\"english\"]] = \"4\""
   ]
  },
  {
   "cell_type": "code",
   "execution_count": 1145,
   "metadata": {},
   "outputs": [],
   "source": [
    "data.loc[data.english == \"НЭЙТИВ ИНГЛИШ СПИКЕР\", [\"english\"]] = \"5\""
   ]
  },
  {
   "cell_type": "code",
   "execution_count": 1146,
   "metadata": {},
   "outputs": [],
   "source": [
    "data.english = data.english.astype(\"int\")"
   ]
  },
  {
   "cell_type": "code",
   "execution_count": 1147,
   "metadata": {},
   "outputs": [
    {
     "data": {
      "text/html": [
       "<div>\n",
       "<style scoped>\n",
       "    .dataframe tbody tr th:only-of-type {\n",
       "        vertical-align: middle;\n",
       "    }\n",
       "\n",
       "    .dataframe tbody tr th {\n",
       "        vertical-align: top;\n",
       "    }\n",
       "\n",
       "    .dataframe thead th {\n",
       "        text-align: right;\n",
       "    }\n",
       "</style>\n",
       "<table border=\"1\" class=\"dataframe\">\n",
       "  <thead>\n",
       "    <tr style=\"text-align: right;\">\n",
       "      <th></th>\n",
       "      <th>time</th>\n",
       "      <th>sex</th>\n",
       "      <th>vegan</th>\n",
       "      <th>rest</th>\n",
       "      <th>games</th>\n",
       "      <th>series</th>\n",
       "      <th>books</th>\n",
       "      <th>putin</th>\n",
       "      <th>english</th>\n",
       "      <th>old_days</th>\n",
       "      <th>...</th>\n",
       "      <th>subject_math</th>\n",
       "      <th>subject_IT</th>\n",
       "      <th>subject_history</th>\n",
       "      <th>subject_foreign_languages</th>\n",
       "      <th>subject_physics</th>\n",
       "      <th>subject_biology</th>\n",
       "      <th>subject_chemistry</th>\n",
       "      <th>crimea_neutral</th>\n",
       "      <th>crimea_no</th>\n",
       "      <th>crimea_yes</th>\n",
       "    </tr>\n",
       "  </thead>\n",
       "  <tbody>\n",
       "    <tr>\n",
       "      <th>0</th>\n",
       "      <td>2019-09-06 23:22:11</td>\n",
       "      <td>1</td>\n",
       "      <td>2</td>\n",
       "      <td>0</td>\n",
       "      <td>1</td>\n",
       "      <td>1</td>\n",
       "      <td>3</td>\n",
       "      <td>Краб</td>\n",
       "      <td>1</td>\n",
       "      <td>Нет</td>\n",
       "      <td>...</td>\n",
       "      <td>0</td>\n",
       "      <td>0</td>\n",
       "      <td>0</td>\n",
       "      <td>1</td>\n",
       "      <td>0</td>\n",
       "      <td>0</td>\n",
       "      <td>0</td>\n",
       "      <td>0</td>\n",
       "      <td>0</td>\n",
       "      <td>1</td>\n",
       "    </tr>\n",
       "    <tr>\n",
       "      <th>1</th>\n",
       "      <td>2019-09-06 23:27:43</td>\n",
       "      <td>0</td>\n",
       "      <td>2</td>\n",
       "      <td>0</td>\n",
       "      <td>3</td>\n",
       "      <td>1</td>\n",
       "      <td>2</td>\n",
       "      <td>человек</td>\n",
       "      <td>3</td>\n",
       "      <td>Нет</td>\n",
       "      <td>...</td>\n",
       "      <td>0</td>\n",
       "      <td>0</td>\n",
       "      <td>0</td>\n",
       "      <td>0</td>\n",
       "      <td>1</td>\n",
       "      <td>0</td>\n",
       "      <td>0</td>\n",
       "      <td>1</td>\n",
       "      <td>0</td>\n",
       "      <td>0</td>\n",
       "    </tr>\n",
       "    <tr>\n",
       "      <th>2</th>\n",
       "      <td>2019-09-06 23:30:07</td>\n",
       "      <td>1</td>\n",
       "      <td>2</td>\n",
       "      <td>0</td>\n",
       "      <td>0</td>\n",
       "      <td>1</td>\n",
       "      <td>3</td>\n",
       "      <td>Политик, лидер и боец</td>\n",
       "      <td>3</td>\n",
       "      <td>Нет</td>\n",
       "      <td>...</td>\n",
       "      <td>0</td>\n",
       "      <td>1</td>\n",
       "      <td>0</td>\n",
       "      <td>0</td>\n",
       "      <td>0</td>\n",
       "      <td>0</td>\n",
       "      <td>0</td>\n",
       "      <td>1</td>\n",
       "      <td>0</td>\n",
       "      <td>0</td>\n",
       "    </tr>\n",
       "    <tr>\n",
       "      <th>3</th>\n",
       "      <td>2019-09-06 23:30:08</td>\n",
       "      <td>0</td>\n",
       "      <td>0</td>\n",
       "      <td>0</td>\n",
       "      <td>2</td>\n",
       "      <td>3</td>\n",
       "      <td>4</td>\n",
       "      <td>Политик, лидер и боец</td>\n",
       "      <td>3</td>\n",
       "      <td>А колбаса какая, колбаса...</td>\n",
       "      <td>...</td>\n",
       "      <td>0</td>\n",
       "      <td>1</td>\n",
       "      <td>0</td>\n",
       "      <td>0</td>\n",
       "      <td>0</td>\n",
       "      <td>0</td>\n",
       "      <td>0</td>\n",
       "      <td>0</td>\n",
       "      <td>1</td>\n",
       "      <td>0</td>\n",
       "    </tr>\n",
       "    <tr>\n",
       "      <th>4</th>\n",
       "      <td>2019-09-06 23:31:38</td>\n",
       "      <td>0</td>\n",
       "      <td>1</td>\n",
       "      <td>0</td>\n",
       "      <td>6</td>\n",
       "      <td>4</td>\n",
       "      <td>3</td>\n",
       "      <td>Политик, лидер и боец</td>\n",
       "      <td>1</td>\n",
       "      <td>А колбаса какая, колбаса...</td>\n",
       "      <td>...</td>\n",
       "      <td>0</td>\n",
       "      <td>1</td>\n",
       "      <td>0</td>\n",
       "      <td>0</td>\n",
       "      <td>0</td>\n",
       "      <td>0</td>\n",
       "      <td>0</td>\n",
       "      <td>1</td>\n",
       "      <td>0</td>\n",
       "      <td>0</td>\n",
       "    </tr>\n",
       "  </tbody>\n",
       "</table>\n",
       "<p>5 rows × 35 columns</p>\n",
       "</div>"
      ],
      "text/plain": [
       "                 time  sex  vegan  rest  games  series  books  \\\n",
       "0 2019-09-06 23:22:11    1      2     0      1       1      3   \n",
       "1 2019-09-06 23:27:43    0      2     0      3       1      2   \n",
       "2 2019-09-06 23:30:07    1      2     0      0       1      3   \n",
       "3 2019-09-06 23:30:08    0      0     0      2       3      4   \n",
       "4 2019-09-06 23:31:38    0      1     0      6       4      3   \n",
       "\n",
       "                   putin  english                     old_days  ...  \\\n",
       "0                   Краб        1                          Нет  ...   \n",
       "1                человек        3                          Нет  ...   \n",
       "2  Политик, лидер и боец        3                          Нет  ...   \n",
       "3  Политик, лидер и боец        3  А колбаса какая, колбаса...  ...   \n",
       "4  Политик, лидер и боец        1  А колбаса какая, колбаса...  ...   \n",
       "\n",
       "  subject_math  subject_IT  subject_history  subject_foreign_languages  \\\n",
       "0            0           0                0                          1   \n",
       "1            0           0                0                          0   \n",
       "2            0           1                0                          0   \n",
       "3            0           1                0                          0   \n",
       "4            0           1                0                          0   \n",
       "\n",
       "   subject_physics  subject_biology  subject_chemistry  crimea_neutral  \\\n",
       "0                0                0                  0               0   \n",
       "1                1                0                  0               1   \n",
       "2                0                0                  0               1   \n",
       "3                0                0                  0               0   \n",
       "4                0                0                  0               1   \n",
       "\n",
       "   crimea_no  crimea_yes  \n",
       "0          0           1  \n",
       "1          0           0  \n",
       "2          0           0  \n",
       "3          1           0  \n",
       "4          0           0  \n",
       "\n",
       "[5 rows x 35 columns]"
      ]
     },
     "execution_count": 1147,
     "metadata": {},
     "output_type": "execute_result"
    }
   ],
   "source": [
    "data.head()"
   ]
  },
  {
   "cell_type": "code",
   "execution_count": 1148,
   "metadata": {},
   "outputs": [],
   "source": [
    "data.loc[data.old_days != \"Нет\", [\"old_days\"]] = \"1\""
   ]
  },
  {
   "cell_type": "code",
   "execution_count": 1149,
   "metadata": {},
   "outputs": [],
   "source": [
    "data.loc[data.old_days == \"Нет\", [\"old_days\"]] = \"0\""
   ]
  },
  {
   "cell_type": "code",
   "execution_count": 1150,
   "metadata": {},
   "outputs": [],
   "source": [
    "data.old_days = data.old_days.astype(\"int\")"
   ]
  },
  {
   "cell_type": "code",
   "execution_count": 1151,
   "metadata": {},
   "outputs": [],
   "source": [
    "temp_borec = data.putin == \"Политик, лидер и боец\""
   ]
  },
  {
   "cell_type": "code",
   "execution_count": 1152,
   "metadata": {},
   "outputs": [],
   "source": [
    "temp_molodec = data.putin == \"Молодец\""
   ]
  },
  {
   "cell_type": "code",
   "execution_count": 1153,
   "metadata": {},
   "outputs": [],
   "source": [
    "data[\"putin_good\"] = [0] * len(data.index)"
   ]
  },
  {
   "cell_type": "code",
   "execution_count": 1154,
   "metadata": {},
   "outputs": [],
   "source": [
    "data.loc[temp_borec | temp_molodec, [\"putin_good\"]] = 1"
   ]
  },
  {
   "cell_type": "code",
   "execution_count": 1155,
   "metadata": {},
   "outputs": [],
   "source": [
    "data[\"rebel\"] = [0] * len(data.index)"
   ]
  },
  {
   "cell_type": "code",
   "execution_count": 1156,
   "metadata": {},
   "outputs": [],
   "source": [
    "data.loc[data.putin_good != 1, [\"rebel\"]] = 1"
   ]
  },
  {
   "cell_type": "code",
   "execution_count": 1157,
   "metadata": {},
   "outputs": [],
   "source": [
    "data = data.drop(\"putin\", axis=1)"
   ]
  },
  {
   "cell_type": "code",
   "execution_count": 1158,
   "metadata": {},
   "outputs": [],
   "source": [
    "new_cols = [\"films_action\", \"films_detective\", \"films_anime\", \"films_drama\", \"films_comedy\", \"films_melodrama\", \"films_historical\", \"films_tragedy\", \"films_horror\", \"films_fantasy\"]\n",
    "old_cols = ['Боевик', 'Детектив', 'Аниме', 'Драма', 'Комедия', 'Мелодрама', 'Историческийфильм', 'Трагедия', 'Фильмужасов', 'Фантастика']\n",
    "for col in old_cols:\n",
    "    data[col] = 0"
   ]
  },
  {
   "cell_type": "code",
   "execution_count": 1159,
   "metadata": {},
   "outputs": [
    {
     "name": "stderr",
     "output_type": "stream",
     "text": [
      "<ipython-input-1159-55fbf3e904bc>:4: SettingWithCopyWarning: \n",
      "A value is trying to be set on a copy of a slice from a DataFrame\n",
      "\n",
      "See the caveats in the documentation: https://pandas.pydata.org/pandas-docs/stable/user_guide/indexing.html#returning-a-view-versus-a-copy\n",
      "  data[i.replace(\" \", \"\")][pers] = 1\n"
     ]
    }
   ],
   "source": [
    "for pers in data.index:\n",
    "    temp = data.films[pers].split(\",\")\n",
    "    for i in temp:\n",
    "        data[i.replace(\" \", \"\")][pers] = 1"
   ]
  },
  {
   "cell_type": "code",
   "execution_count": 1160,
   "metadata": {},
   "outputs": [],
   "source": [
    "data.rename(columns=dict(zip(old_cols, new_cols)),inplace = True)"
   ]
  },
  {
   "cell_type": "code",
   "execution_count": 1161,
   "metadata": {},
   "outputs": [],
   "source": [
    "data = data.drop(\"films\", axis=1)"
   ]
  },
  {
   "cell_type": "code",
   "execution_count": 1162,
   "metadata": {},
   "outputs": [],
   "source": [
    "data.to_csv(\"form_upd.csv\")"
   ]
  },
  {
   "cell_type": "code",
   "execution_count": null,
   "metadata": {},
   "outputs": [],
   "source": [
    "data_upd = pd.read_csv(\"form.csv\""
   ]
  }
 ],
 "metadata": {
  "kernelspec": {
   "display_name": "Python 3",
   "language": "python",
   "name": "python3"
  },
  "language_info": {
   "codemirror_mode": {
    "name": "ipython",
    "version": 3
   },
   "file_extension": ".py",
   "mimetype": "text/x-python",
   "name": "python",
   "nbconvert_exporter": "python",
   "pygments_lexer": "ipython3",
   "version": "3.8.5"
  }
 },
 "nbformat": 4,
 "nbformat_minor": 4
}
